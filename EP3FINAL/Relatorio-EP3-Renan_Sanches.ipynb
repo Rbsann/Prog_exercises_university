{
 "metadata": {
  "name": "Relatorio-EP3-Renan_Sanches"
 },
 "nbformat": 3,
 "nbformat_minor": 0,
 "worksheets": [
  {
   "cells": [
    {
     "cell_type": "code",
     "collapsed": false,
     "input": "from IPython.display import Image\nfrom IPython.core.display import HTML \nimport math\nimport random\nimport matplotlib.pyplot as plt\nimport numpy as np",
     "language": "python",
     "metadata": {},
     "outputs": [],
     "prompt_number": 2
    },
    {
     "cell_type": "raw",
     "metadata": {},
     "source": "Bem vindo ao relatorio de analise de geracao de cordas aleatorias requerido pelo enunciado do Exercicio Programa numero 3.\nPrimeiramente vou retomar as especificacoes matematicas de cada metodo gerador de cordas, copiado literalmente do enunciado do Exercicio Programa 2.\nCada especificacao vira com o codigo utilizado no meu programa para sua geracao.\nDepois disso passo a  analise individual de cada metodo, com as imagens sendo anexadas por html.\nLembrando que para cada gerador de cordas foi utilizado um raio igual a 10.0 unidades e foram geradas 1000 cordas para cada metodo."
    },
    {
     "cell_type": "raw",
     "metadata": {},
     "source": "Especificacao matematica do metodo gerador numero 1:\n\"Dados dois pontos A e B aleatorios em uma circunferencia, qual a probabilidade da corda que passa por A e por B seja maior que\no lado do triangulo equilatero inscrito a circunferencia?\nSolucao: Gire o triangulo ate que um dos seus vertices coincida com o ponto A. A probabilidade\ndo ponto B ser tal que a corda AB seja maior que o lado do triangulo e exatamente 1/3''\n\nComentarios:\nA possibilidade eh exatamente 1/3 pelo fato que o angulo da corda gerada deve ser maior que arcsin(sqrt(3)/2). O que da exatamente 1/3, sendo que as cordas geradas devem estar entre 60<x<120 e abs(240)<abs(x)<abs(300). \n                                                                                                                                                                                           \n                                                                                                                                      \n                                                                                                                                                                                           "
    },
    {
     "cell_type": "raw",
     "metadata": {},
     "source": "Continuacao:\nO que nos leva a exatamente 1/3 das possibilidades, ou 120 angulos entre 360 possiveis."
    },
    {
     "cell_type": "raw",
     "metadata": {},
     "source": "Codigo utilizado para gerar o as primeiras cordas,copiado diretamente do programa:"
    },
    {
     "cell_type": "code",
     "collapsed": false,
     "input": "def listaCordasM1(r,n):\n    i=0 \n    lista=[None]*n \n    while i<n: \n        A=random.uniform(0,2*np.pi) \n        B=random.uniform(0,2*np.pi)\n        tupa=(r,A)\n        tupb=(r,B)\n        lista[i]=((tupa,tupb))\n        i+=1\n    return lista",
     "language": "python",
     "metadata": {},
     "outputs": []
    },
    {
     "cell_type": "raw",
     "metadata": {},
     "source": "Imagem das cordas geradas pelo metodo 1 (em ordem:Area, Bordas, Corda, Radial(coroas)):"
    },
    {
     "cell_type": "code",
     "collapsed": false,
     "input": "Image(url= \"http://i.imgur.com/ikX7Ujs.png\")\n\n\n",
     "language": "python",
     "metadata": {},
     "outputs": [
      {
       "html": "<img src=\"http://i.imgur.com/ikX7Ujs.png\"/>",
       "metadata": {},
       "output_type": "pyout",
       "prompt_number": 11,
       "text": "<IPython.core.display.Image at 0x7fe0a2cd5a20>"
      }
     ],
     "prompt_number": 11
    },
    {
     "cell_type": "code",
     "collapsed": false,
     "input": "Image(url= \"https://i.imgsafe.org/dbb1efb.png\")",
     "language": "python",
     "metadata": {},
     "outputs": [
      {
       "html": "<img src=\"https://i.imgsafe.org/dbb1efb.png\"/>",
       "metadata": {},
       "output_type": "pyout",
       "prompt_number": 8,
       "text": "<IPython.core.display.Image at 0x7fe0a2cd5828>"
      }
     ],
     "prompt_number": 8
    },
    {
     "cell_type": "code",
     "collapsed": false,
     "input": "Image(url= \"http://i.imgur.com/QtOS6cj.png\")",
     "language": "python",
     "metadata": {},
     "outputs": [
      {
       "html": "<img src=\"http://i.imgur.com/QtOS6cj.png\"/>",
       "metadata": {},
       "output_type": "pyout",
       "prompt_number": 9,
       "text": "<IPython.core.display.Image at 0x7fe0a2cd5978>"
      }
     ],
     "prompt_number": 9
    },
    {
     "cell_type": "code",
     "collapsed": false,
     "input": "Image(url= \"http://i.imgur.com/wgxGcPw.png\")",
     "language": "python",
     "metadata": {},
     "outputs": [
      {
       "html": "<img src=\"http://i.imgur.com/wgxGcPw.png\"/>",
       "metadata": {},
       "output_type": "pyout",
       "prompt_number": 10,
       "text": "<IPython.core.display.Image at 0x7fe0a2cd5898>"
      }
     ],
     "prompt_number": 10
    },
    {
     "cell_type": "raw",
     "metadata": {},
     "source": "Sem nenhuma duvida a analise visual do primeiro metodo eh a mais complexa.\nO que se espera aqui eh q 1/3 das cordas sejam de comprimento maior que o lado do triangulo equilatero inscrito, que eh definido por r*sqrt(3).\nSabe-se que quanto mais proximo da borda o ponto medio, menor o tamanho da corda, portanto a imagem chave para a analise aqui eh a ultima, da distribuicao radial.\nLogo de cara vemos que 1/3 das cordas tem tamanho menor que o triangulo equilatero.(Grupo 7)\nDos grupos 4 ao 6 temos outro 1/3.\nDo grupo 0 ao 4 3 ultimo terco. \nAssim como mais proximo da borda o ponto medio menor a corda;-quanto mais distante maior o tamanho da corda. Portanto podemos concluir que 1/3 das cordas sorteadas sao maiores que o triangulo inscrito nela."
    },
    {
     "cell_type": "raw",
     "metadata": {},
     "source": "Especificacao matematica do metodo gerador 2:\n\"Seja O o centro da circunferencia e OC o raio resultante da escolha arbitraria de um ponto C na circunferencia. Tome um ponto qualquer,P, em OC. Trace uma perpendicular a OC que passe por P e que toque a circunferencia nos\npontos A e B. A corda AB \u00b4e maior que o lado do triangulo equilatero se P for escolhido entre\nO e a metade do raio da circunferencia (pois o lado do triangulo equilatero corta o raio na\nmetade). Assim, a probabilidade de escolhermos uma corda maior que o lado do triangulo e\nexatamente 1/2\"\n\nComentario: A possibilidade eh de 1/2 pelo fato que basicamente o que estamos fazendo eh sorteando um valor entre 0 e r. Eh nitido que 50% desses valores estarao abaixo de r/2.\n. "
    },
    {
     "cell_type": "raw",
     "metadata": {},
     "source": "Codigo utilizado para geracao das cordas pelo metodo 2:"
    },
    {
     "cell_type": "code",
     "collapsed": false,
     "input": "def listaCordasM2(r,n):\n    i=0 \n    lista=[None]*n \n    while i<n:\n        teta=random.uniform(0,2*np.pi) \n        z=random.uniform(0,r) \n        a1=teta+np.arccos(z/r) \n        if a1>2*np.pi: \n            a1=a1-2*np.pi\n        a2=teta-np.arccos(z/r) \n        if a2<0: \n            a2=a2+2*np.pi\n        extremo1=(r,a1) \n        extremo2=(r,a2) \n        lista[i]=((extremo1,extremo2))\n        i+=1\n    return lista",
     "language": "python",
     "metadata": {},
     "outputs": []
    },
    {
     "cell_type": "raw",
     "metadata": {},
     "source": "Imagem das cordas geradas pelo metodo 2 (em ordem:Area, Bordas, Corda, Radial(coroas)):"
    },
    {
     "cell_type": "code",
     "collapsed": false,
     "input": "Image(url= \"http://i.imgur.com/rYqROWg.png\")",
     "language": "python",
     "metadata": {},
     "outputs": [
      {
       "html": "<img src=\"http://i.imgur.com/rYqROWg.png\"/>",
       "metadata": {},
       "output_type": "pyout",
       "prompt_number": 15,
       "text": "<IPython.core.display.Image at 0x7fe0a2cd5a90>"
      }
     ],
     "prompt_number": 15
    },
    {
     "cell_type": "code",
     "collapsed": false,
     "input": "Image(url= \"http://i.imgur.com/AsBlAo8.png\")",
     "language": "python",
     "metadata": {},
     "outputs": [
      {
       "html": "<img src=\"http://i.imgur.com/AsBlAo8.png\"/>",
       "metadata": {},
       "output_type": "pyout",
       "prompt_number": 16,
       "text": "<IPython.core.display.Image at 0x7fe0a2cd5438>"
      }
     ],
     "prompt_number": 16
    },
    {
     "cell_type": "code",
     "collapsed": false,
     "input": "Image(url= \"http://i.imgur.com/hVTDKSN.png\")",
     "language": "python",
     "metadata": {},
     "outputs": [
      {
       "html": "<img src=\"http://i.imgur.com/hVTDKSN.png\"/>",
       "metadata": {},
       "output_type": "pyout",
       "prompt_number": 17,
       "text": "<IPython.core.display.Image at 0x7fe0a2cd73c8>"
      }
     ],
     "prompt_number": 17
    },
    {
     "cell_type": "code",
     "collapsed": false,
     "input": "Image(url= \"http://i.imgur.com/7nYtKCg.png\")",
     "language": "python",
     "metadata": {},
     "outputs": [
      {
       "html": "<img src=\"http://i.imgur.com/7nYtKCg.png\"/>",
       "metadata": {},
       "output_type": "pyout",
       "prompt_number": 18,
       "text": "<IPython.core.display.Image at 0x7fe0a2cd74a8>"
      }
     ],
     "prompt_number": 18
    },
    {
     "cell_type": "raw",
     "metadata": {},
     "source": "A analise aqui devera ser focada na primeira e ultima imagem.\nO que esperariamos, pelo metodo gerador 2, eh que metade das cordas geradas teriam um ponto medio entre 0 e r/2 e a outra metade entre r/2 e r, vemos exatamente isso na distribuicao radial! Percebemos uma ligeira discrepancia na proporcao, mas nada que impe\u00e7a a conclusao que o metodo 2 funcionou de maneira correta, essa proporcao se da pelo fato que meu codigo esta formalizado de tal forma que os valores que sao exatamente iguais a r/2 sao inclusos no grupo 4 (laranja) e nao no grupo 3(preto) como deveria. Levando isso em consideracao a conclusao da distribuicao de 50% fica mais forte.\nA primeira imagem tambem corrobora em partes essa conclusao. Em minha funcao de distribuicaoArea construi um circulo de r/sqrt(2) e reparti o circulo maior com uma reta vertical e uma horizontal. Assim a proporcao esperada entre a distribuicao dos circulos internos e externos eh de aproximadamente 70% e 30%.\n\nExatamente o que vemos."
    },
    {
     "cell_type": "raw",
     "metadata": {},
     "source": "Especificacao matematica do metodo gerador 3:\n\"Seja P um ponto qualquer no interior da circunferencia de centro O. Seja AB uma corda da circunferencia cujo ponto medio e P.Se P cair dentro da circunferencia de centro O e raio igual a metade do raio da circunferencia\noriginal, o arco AB sera maior, ou igual, ao lado do triangulo equilatero inscrito a circunferencia.\nAssim, a probabilidade da corda AB ser maior que o lado do triangulo equilatero inscrito a\ncircunferencia e igual a razao da area da circunferencia menor, cujo raio e metade do raio\noriginal, e a circunferencia maior, ou seja, 1/4\"\n\nComentario: A questao aqui eh a probabilidade do ponto cair em uma circuferencia de r/2 ou na circuferencia maior, o que eh exatamente 1/4\n."
    },
    {
     "cell_type": "raw",
     "metadata": {},
     "source": "Codigo utilizado para geracao das cordas pelo metodo 3:"
    },
    {
     "cell_type": "code",
     "collapsed": false,
     "input": "i=0 \n    lista=[None]*n \n    while i<n:\n        X=random.uniform(-r,r) \n        Y=random.uniform(-r,r) \n        z=np.sqrt((X*X)+(Y*Y)) \n        if(z>r): \n            i=i-1\n        else: \n            teta=np.arctan2(Y,X) \n            if teta>2*np.pi:\n                teta=teta-2*np.pi\n            if teta<0: \n                teta=teta+2*np.pi\n            a1=teta+np.arccos(z/r) \n            if a1>2*np.pi: \n                a1=a1-2*np.pi\n            a2=teta-np.arccos(z/r) \n            if a2<0: \n                a2=a2+2*np.pi\n            extremo1=(r,a1)\n            extremo2=(r,a2)\n            lista[i]=((extremo1,extremo2))\n        i+=1\n    return lista",
     "language": "python",
     "metadata": {},
     "outputs": []
    },
    {
     "cell_type": "raw",
     "metadata": {},
     "source": "Imagem das cordas geradas pelo metodo 3 (em ordem:Area, Bordas, Corda, Radial(coroas)):"
    },
    {
     "cell_type": "code",
     "collapsed": false,
     "input": "Image(url= \"http://i.imgur.com/snnsZgs.png\")",
     "language": "python",
     "metadata": {},
     "outputs": [
      {
       "html": "<img src=\"http://i.imgur.com/snnsZgs.png\"/>",
       "metadata": {},
       "output_type": "pyout",
       "prompt_number": 19,
       "text": "<IPython.core.display.Image at 0x7fe0a2cd7278>"
      }
     ],
     "prompt_number": 19
    },
    {
     "cell_type": "code",
     "collapsed": false,
     "input": "Image(url= \"http://i.imgur.com/jfDiYgM.png\")",
     "language": "python",
     "metadata": {},
     "outputs": [
      {
       "html": "<img src=\"http://i.imgur.com/jfDiYgM.png\"/>",
       "metadata": {},
       "output_type": "pyout",
       "prompt_number": 20,
       "text": "<IPython.core.display.Image at 0x7fe0a2cd7438>"
      }
     ],
     "prompt_number": 20
    },
    {
     "cell_type": "code",
     "collapsed": false,
     "input": "Image(url= \"http://i.imgur.com/9oRjfk9.png\")",
     "language": "python",
     "metadata": {},
     "outputs": [
      {
       "html": "<img src=\"http://i.imgur.com/9oRjfk9.png\"/>",
       "metadata": {},
       "output_type": "pyout",
       "prompt_number": 21,
       "text": "<IPython.core.display.Image at 0x7fe0a2cd7240>"
      }
     ],
     "prompt_number": 21
    },
    {
     "cell_type": "code",
     "collapsed": false,
     "input": "Image(url= \"http://i.imgur.com/HP1pERx.png\")",
     "language": "python",
     "metadata": {},
     "outputs": [
      {
       "html": "<img src=\"http://i.imgur.com/HP1pERx.png\"/>",
       "metadata": {},
       "output_type": "pyout",
       "prompt_number": 22,
       "text": "<IPython.core.display.Image at 0x7fe0a3c81710>"
      }
     ],
     "prompt_number": 22
    },
    {
     "cell_type": "raw",
     "metadata": {},
     "source": "Por ultimo o foco da analise aqui deve ser nos tres primeiros grupos.\nEspera-se, caso o metodo 3 seja funcional, que 1/4 das cordas tenham ponto medio nas 3 primeiras subdivisoes. E eh exatamente isso que vemos aqui."
    },
    {
     "cell_type": "raw",
     "metadata": {},
     "source": "Consideracoes finais:\nApesar de visualmente ser mais dificil concluirmos a eficacia dos metodos, com um pouco de esforco, percebemos que a distribuicao das cordas geradas ficaram de acordo com o esperado pela especificacao dos metodos."
    }
   ],
   "metadata": {}
  }
 ]
}